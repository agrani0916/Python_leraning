{
 "cells": [
  {
   "cell_type": "code",
   "execution_count": 1,
   "id": "ed24fea1",
   "metadata": {},
   "outputs": [
    {
     "name": "stdout",
     "output_type": "stream",
     "text": [
      "Enter an integer: 4\n",
      "Enter an integer: 6\n",
      "Before swapping x = 4, y = 6\n",
      "After swapping x = 6, y = 4\n"
     ]
    }
   ],
   "source": [
    "\"\"\"Implement a python code to read two integers from user and store them in variables x and y,also swap them.\n",
    "Display the integers before and after swapping.\"\"\"\n",
    "\n",
    "x=int(input(\"Enter an integer: \"))\n",
    "y=int(input(\"Enter an integer: \"))\n",
    "print(\"Before swapping x = {}, y = {}\".format(x,y))\n",
    "x,y = y,x\n",
    "print(\"After swapping x = {}, y = {}\".format(x,y))"
   ]
  },
  {
   "cell_type": "code",
   "execution_count": 2,
   "id": "357c2494",
   "metadata": {},
   "outputs": [
    {
     "name": "stdout",
     "output_type": "stream",
     "text": [
      "Enter the number : 4\n",
      "The number is not divisable by 7 and 11\n"
     ]
    }
   ],
   "source": [
    "#whether the number is divisable by 7, 11?\n",
    "x = int(input(\"Enter the number : \"))\n",
    "if (x%7==0):\n",
    "    print(\"The number is divisable by 7\")\n",
    "elif (x%11==0):\n",
    "    print(\"The number is divisable by 11\")\n",
    "else:\n",
    "    print(\"The number is not divisable by 7 and 11\")"
   ]
  },
  {
   "cell_type": "code",
   "execution_count": 3,
   "id": "03db5fb2",
   "metadata": {},
   "outputs": [
    {
     "name": "stdout",
     "output_type": "stream",
     "text": [
      "Enter the number:  5\n",
      "!! HELLO !!\n"
     ]
    }
   ],
   "source": [
    "#Write a program to display \"Hello\" if a number is multiple of 5 otherwise print \"Bye\"\n",
    "num = int(input(\"Enter the number:  \"))\n",
    "if (num%5==0):\n",
    "    print(\"!! HELLO !!\")\n",
    "else:\n",
    "    print(\"!! BYE !!\")"
   ]
  },
  {
   "cell_type": "code",
   "execution_count": 4,
   "id": "6efad487",
   "metadata": {},
   "outputs": [
    {
     "name": "stdout",
     "output_type": "stream",
     "text": [
      "Enter the digit:  44\n",
      "The last digit of  44  is  4\n"
     ]
    }
   ],
   "source": [
    "#Write program to display the last digit of the number\n",
    "digi = int(input(\"Enter the digit:  \"))\n",
    "last_digi = digi%10\n",
    "print(\"The last digit of \", digi, \" is \", last_digi)"
   ]
  },
  {
   "cell_type": "code",
   "execution_count": 5,
   "id": "a870c34b",
   "metadata": {},
   "outputs": [
    {
     "name": "stdout",
     "output_type": "stream",
     "text": [
      "Enter your string: jgjg\n",
      "Original string:  jgjg\n",
      "Reversed string:  gjgj\n"
     ]
    }
   ],
   "source": [
    "'''Implement a python code to read a string from user and reverse\n",
    "the string.Display the original string and the reversed string''' \n",
    " \n",
    "string = input(\"Enter your string: \")\n",
    "print(\"Original string: \", string)\n",
    "reversed_string = string[::-1]\n",
    "print(\"Reversed string: \", reversed_string)\n"
   ]
  },
  {
   "cell_type": "code",
   "execution_count": 7,
   "id": "791a091d",
   "metadata": {},
   "outputs": [
    {
     "name": "stdout",
     "output_type": "stream",
     "text": [
      "Enter your string: asdf\n",
      "False\n"
     ]
    }
   ],
   "source": [
    "# check whether the given string is palindrome or note?\n",
    "\n",
    "\n",
    "def is_palindrome(input_string):\n",
    "    reversed_string = input_string[::-1]\n",
    "    return input_string == reversed_string\n",
    "\n",
    "string_palindrome = input(\"Enter your string: \")\n",
    "result = is_palindrome(string_palindrome)\n",
    "print(result)"
   ]
  },
  {
   "cell_type": "code",
   "execution_count": 10,
   "id": "7f83d00a",
   "metadata": {},
   "outputs": [
    {
     "name": "stdout",
     "output_type": "stream",
     "text": [
      "Enter your string: skjhg\n",
      "No of vowels in the string:  0\n"
     ]
    }
   ],
   "source": [
    "# write a program to count the number of vowels in the given string\n",
    "\n",
    "string_vowel = input(\"Enter your string: \")\n",
    "count = 0\n",
    "vowel = 'a,e,i,o,u,A,E,I,O,U'\n",
    "for i in string_vowel:\n",
    "    if i in vowel:\n",
    "        count += 1\n",
    "print(\"No of vowels in the string: \", count)"
   ]
  },
  {
   "cell_type": "code",
   "execution_count": 12,
   "id": "b8efabba",
   "metadata": {},
   "outputs": [
    {
     "name": "stdout",
     "output_type": "stream",
     "text": [
      "Enter your string: rani\n",
      "The new string is :  Rani\n"
     ]
    }
   ],
   "source": [
    "# Using a for loop capitalize a letter in the string\n",
    "string = input(\"Enter your string: \")\n",
    "for i in string:\n",
    "    if string[0]:\n",
    "        new_string = string[0].upper()+string[1:]\n",
    "print(\"The new string is : \", new_string)"
   ]
  },
  {
   "cell_type": "code",
   "execution_count": 4,
   "id": "9fc6e84c",
   "metadata": {},
   "outputs": [
    {
     "name": "stdout",
     "output_type": "stream",
     "text": [
      "Product:  24\n"
     ]
    }
   ],
   "source": [
    "#write a function that takes a tuple of numbers as input and returns the product of element\n",
    "def the_element(number):\n",
    "    product = 1\n",
    "    for i in number:\n",
    "        product = i*product\n",
    "    return product\n",
    "#use case\n",
    "num = (1,2,3,4)\n",
    "element = the_element(num)\n",
    "print(\"Product: \", element)"
   ]
  },
  {
   "cell_type": "code",
   "execution_count": 5,
   "id": "c1bdd209",
   "metadata": {},
   "outputs": [
    {
     "name": "stdout",
     "output_type": "stream",
     "text": [
      "(3, 2, 1)\n"
     ]
    }
   ],
   "source": [
    "# revers a tuple\n",
    "def reverse_tuple(input_tuple):\n",
    "    rev_tup = input_tuple[::-1]\n",
    "    return rev_tup\n",
    "\n",
    "tuple = (1,2,3)\n",
    "print(reverse_tuple(tuple))"
   ]
  },
  {
   "cell_type": "code",
   "execution_count": 10,
   "id": "cbff280e",
   "metadata": {},
   "outputs": [
    {
     "name": "stdout",
     "output_type": "stream",
     "text": [
      "True\n"
     ]
    }
   ],
   "source": [
    "def is_palindrome(input_string):\n",
    "    reversed_string = input_string[::-1]\n",
    "    return input_string == reversed_string\n",
    "\n",
    "#tuple = (input(\"Enter your tuple: \"))\n",
    "tuple = (1,2,3,2,1)\n",
    "result = is_palindrome(tuple)\n",
    "print(result)"
   ]
  },
  {
   "cell_type": "code",
   "execution_count": 4,
   "id": "6d5ffad5",
   "metadata": {},
   "outputs": [
    {
     "name": "stdout",
     "output_type": "stream",
     "text": [
      "Enter your salary: 10000\n",
      "Enter year of experiance: 3\n",
      "Not applicable!\n"
     ]
    }
   ],
   "source": [
    "'''A company decided to give bonus of 5% to employee if his/her\n",
    "year of service is more than 5 years.Ask user for their salary\n",
    "and year of service and print net bonus amount.'''\n",
    "\n",
    "salary = int(input(\"Enter your salary: \"))\n",
    "year = int(input(\"Enter year of experiance: \"))\n",
    "\n",
    "if (year > 5):\n",
    "    bonus_amout = salary*(5/100)\n",
    "    print(\"Eligible for bonus\")\n",
    "    print(\"Your net bonus amount is: \" ,bonus_amout)\n",
    "else:\n",
    "    print(\"Not applicable for bonus!\")"
   ]
  },
  {
   "cell_type": "code",
   "execution_count": 6,
   "id": "23b7b3ba",
   "metadata": {},
   "outputs": [
    {
     "name": "stdout",
     "output_type": "stream",
     "text": [
      "Enter your length: 3\n",
      "Enter your breadth: 4\n",
      "Given rectangle is not square\n"
     ]
    }
   ],
   "source": [
    "'''Take values of length and breadth of rectangle from user and check \n",
    "if it is square or not'''\n",
    "length = int(input(\"Enter your length: \"))\n",
    "breadth = int(input(\"Enter your breadth: \"))\n",
    "if (length == breadth):\n",
    "    print(\"Given rectangle is square\")\n",
    "else:\n",
    "    print(\"Given rectangle is not square\")"
   ]
  },
  {
   "cell_type": "code",
   "execution_count": 10,
   "id": "c45b41d2",
   "metadata": {},
   "outputs": [
    {
     "name": "stdout",
     "output_type": "stream",
     "text": [
      "Enter your age: 1\n",
      "Enter your age: 2\n",
      "Enter your age: 3\n",
      "Third person is oldest\n",
      "Third person is youngest\n"
     ]
    }
   ],
   "source": [
    "'''Take input of age of 3 people by user and determine oldest and youngest age among them'''\n",
    "\n",
    "age1 = int(input(\"Enter your age: \"))\n",
    "age2 = int(input(\"Enter your age: \"))\n",
    "age3 = int(input(\"Enter your age: \"))\n",
    "if (age1 >= age2 & age1 >= age3):\n",
    "    print(\"First person is oldest\")\n",
    "elif (age2 >= age1 & age2 >= age3):\n",
    "    print(\"second person is oldest\")\n",
    "else:\n",
    "    print(\"Third person is oldest\")\n",
    "if (age1 <= age2 & age1 <= age3):\n",
    "    print(\"First person is youngest\")\n",
    "elif (age2 <= age1 & age2 <= age3):\n",
    "    print(\"second person is youngest\")\n",
    "else:\n",
    "    print(\"Third person is youngest\")\n",
    "    \n",
    "    "
   ]
  },
  {
   "cell_type": "code",
   "execution_count": 6,
   "id": "42e95721",
   "metadata": {},
   "outputs": [
    {
     "name": "stdout",
     "output_type": "stream",
     "text": [
      "Enter age of three pupil seprated by space :2 3 4\n",
      "Eldest age:  4\n",
      "Eldest age:  2\n"
     ]
    }
   ],
   "source": [
    "'''Take input of age of 3 people by user and determine oldest and youngest age among them'''\n",
    "l1 = input(\"Enter age of three pupil seprated by space :\").split(\" \")\n",
    "age1 = int(l1[0])\n",
    "age2 = int(l1[1])\n",
    "age3 = int(l1[2])\n",
    "print(\"Eldest age: \", max(l1))\n",
    "print(\"Eldest age: \", min(l1))"
   ]
  },
  {
   "cell_type": "code",
   "execution_count": 7,
   "id": "ca9bc8ad",
   "metadata": {},
   "outputs": [
    {
     "name": "stdout",
     "output_type": "stream",
     "text": [
      "Enter the value of n : 4\n",
      "Displaying the numbers from 1 to 4\n",
      "1\n",
      "2\n",
      "3\n",
      "4\n"
     ]
    }
   ],
   "source": [
    "'''Implement a python code to display natural numbers from 1 to n.\n",
    "Read the value of n from user'''\n",
    "n = int(input(\"Enter the value of n : \"))\n",
    "print(\"Displaying the numbers from 1 to {0}\".format(n))\n",
    "for i in range(1,n+1):\n",
    "    print(i)"
   ]
  },
  {
   "cell_type": "code",
   "execution_count": 8,
   "id": "33c26fb0",
   "metadata": {},
   "outputs": [
    {
     "name": "stdout",
     "output_type": "stream",
     "text": [
      "Enter integers:1\n",
      "Enter integers:2\n",
      "Enter integers:3\n",
      "Enter integers:4\n",
      "Enter integers:5\n",
      "Enter integers:6\n",
      "Enter integers:7\n",
      "Enter integers:8\n",
      "Enter integers:9\n",
      "Enter integers:10\n",
      "The numbers read from user: [1, 2, 3, 4, 5, 6, 7, 8, 9, 10]\n",
      "Sum of number: 55\n",
      "Average of number: 5.5\n"
     ]
    }
   ],
   "source": [
    "'''Take 10 integres from user and print their sum and average values'''\n",
    "lst = []\n",
    "for i in range(1,11):\n",
    "    num = int(input(\"Enter integers:\"))\n",
    "    lst.append(num)\n",
    "print(\"The numbers read from user:\", lst)\n",
    "print(\"Sum of number:\", sum(lst))\n",
    "print(\"Average of number:\", sum(lst)/len(lst))"
   ]
  },
  {
   "cell_type": "code",
   "execution_count": null,
   "id": "2f5333f8",
   "metadata": {},
   "outputs": [],
   "source": [
    "'''Take 10 integer inputs from user and store them in a list.Again ask \n",
    "user to give a number. Now tell user whether that number is present \n",
    "in the list or not.'''\n",
    "lst = []\n",
    "for i in range(1,11):\n",
    "    num = int(input(\"Enter integers:\"))\n",
    "    lst.append(num)\n",
    "print(\"The numbers read from user:\", lst)\n",
    "number = int(input(\"Enter a  number : \"))\n",
    "if(number in lst):\n",
    "    print(\"The number {0} is present in the list: {1}\".format(number,lst))\n",
    "else:\n",
    "    print(\"The number {0} is not present in the list: {1}\".format(number,lst))"
   ]
  },
  {
   "cell_type": "code",
   "execution_count": null,
   "id": "f7016dc9",
   "metadata": {},
   "outputs": [],
   "source": [
    "'''Implement a python code to read a string from user. find \n",
    "the string length without using len function '''\n",
    "strng=input(\"Enter your string: \")\n",
    "count=0\n",
    "for i in strng:\n",
    "    count+=1\n",
    "print(\"The string length of {0} = {1}\".format(strng,count))"
   ]
  },
  {
   "cell_type": "code",
   "execution_count": null,
   "id": "efcf14fa",
   "metadata": {},
   "outputs": [],
   "source": [
    "'''Write a program that takes your full name as input and displays\n",
    "the abbreviations of the first and middle names expect the last name \n",
    "which is displayed as it is.'''\n",
    "name=input(\"Enter your full name:Firstname Middlename Lastname \").split(\" \")\n",
    "result=name[0][0]+ '.' +name[1][0]+ '.'+name[2]\n",
    "print(result)\n",
    "\n"
   ]
  }
 ],
 "metadata": {
  "kernelspec": {
   "display_name": "Python 3 (ipykernel)",
   "language": "python",
   "name": "python3"
  },
  "language_info": {
   "codemirror_mode": {
    "name": "ipython",
    "version": 3
   },
   "file_extension": ".py",
   "mimetype": "text/x-python",
   "name": "python",
   "nbconvert_exporter": "python",
   "pygments_lexer": "ipython3",
   "version": "3.9.7"
  }
 },
 "nbformat": 4,
 "nbformat_minor": 5
}
