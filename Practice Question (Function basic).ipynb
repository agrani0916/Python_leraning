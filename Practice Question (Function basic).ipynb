{
 "cells": [
  {
   "cell_type": "code",
   "execution_count": 1,
   "id": "c88cbc9d",
   "metadata": {},
   "outputs": [
    {
     "name": "stdout",
     "output_type": "stream",
     "text": [
      "Enter a number: 3\n",
      "Enter a number: 4\n",
      "Enter a number: 5\n",
      "Product  60\n"
     ]
    }
   ],
   "source": [
    "'''Implement a python user defined function of the form\n",
    "without arguments and with return type to find the product\n",
    "of three numbers'''\n",
    "\n",
    "def product():\n",
    "    a = int(input(\"Enter a number: \"))\n",
    "    b = int(input(\"Enter a number: \"))\n",
    "    c = int(input(\"Enter a number: \"))\n",
    "    result = a * b * c\n",
    "    return result\n",
    "\n",
    "res = product()\n",
    "print(\"Product \", res)"
   ]
  },
  {
   "cell_type": "code",
   "execution_count": 2,
   "id": "3e593b29",
   "metadata": {},
   "outputs": [
    {
     "name": "stdout",
     "output_type": "stream",
     "text": [
      "Length: 5\n",
      "Breadth: 6\n",
      "Area 30\n",
      "Perimeter 22\n"
     ]
    }
   ],
   "source": [
    "'''write a python function to calculate the area and perimeter\n",
    "of a rectangle'''\n",
    "#without argument and without return\n",
    "def rectangle():\n",
    "    l = int(input(\"Length: \"))\n",
    "    b = int(input(\"Breadth: \"))\n",
    "    area = l * b\n",
    "    perimeter = 2 * (l+b)\n",
    "    print(\"Area\", area)\n",
    "    print(\"Perimeter\", perimeter)\n",
    "    \n",
    "rectangle()\n",
    "\n"
   ]
  },
  {
   "cell_type": "code",
   "execution_count": 7,
   "id": "30abf0c1",
   "metadata": {},
   "outputs": [],
   "source": [
    "#with argument and return\n",
    "def rectangle(l, b):\n",
    "    area = l * b\n",
    "    perimeter = 2 * (l+b)\n",
    "    return area, perimeter"
   ]
  },
  {
   "cell_type": "code",
   "execution_count": 9,
   "id": "e17441d0",
   "metadata": {},
   "outputs": [
    {
     "name": "stdout",
     "output_type": "stream",
     "text": [
      "Length: 4\n",
      "Breadth: 5\n"
     ]
    }
   ],
   "source": [
    "length = int(input(\"Length: \"))\n",
    "breadth = int(input(\"Breadth: \"))"
   ]
  },
  {
   "cell_type": "code",
   "execution_count": 12,
   "id": "5f3f6c26",
   "metadata": {},
   "outputs": [
    {
     "name": "stdout",
     "output_type": "stream",
     "text": [
      "Area:  20\n",
      "Perimeter 18\n"
     ]
    }
   ],
   "source": [
    "area, perimeter = rectangle(length,breadth)\n",
    "print(\"Area: \", area)\n",
    "print(\"Perimeter\", perimeter)"
   ]
  },
  {
   "cell_type": "code",
   "execution_count": 15,
   "id": "6f35987e",
   "metadata": {},
   "outputs": [
    {
     "name": "stdout",
     "output_type": "stream",
     "text": [
      "Age of the candidate: 3\n",
      "You are not eligiable\n"
     ]
    }
   ],
   "source": [
    "'''Implement a python user defined function to tell user\n",
    "if he/she is eligible to vote.consider minimum age of voting to be\n",
    "18.'''\n",
    "\n",
    "def voting():\n",
    "    age = int(input(\"Age of the candidate: \"))\n",
    "    if age >17:\n",
    "        print(\"You are eligiable for voting\")\n",
    "    else:\n",
    "        print(\"You are not eligiable\")\n",
    "voting()    "
   ]
  },
  {
   "cell_type": "code",
   "execution_count": 16,
   "id": "487723be",
   "metadata": {},
   "outputs": [
    {
     "name": "stdout",
     "output_type": "stream",
     "text": [
      "Enter your number: 3\n",
      "your number is odd\n"
     ]
    }
   ],
   "source": [
    "'''Implent a python function to read a number from user and\n",
    "check if the number is odd or even'''\n",
    "\n",
    "def odd_even(num):\n",
    "    if (num%2)==0:\n",
    "        print(\"your number is even\")\n",
    "    else:\n",
    "        print(\"your number is odd\")\n",
    "        \n",
    "number = int(input(\"Enter your number: \"))\n",
    "odd_even(number)"
   ]
  },
  {
   "cell_type": "code",
   "execution_count": 1,
   "id": "d143335c",
   "metadata": {},
   "outputs": [
    {
     "data": {
      "text/plain": [
       "'Make a list by taking n no.of inputs from user.Read the n value\\nfrom user.Now remove all repeated elements of the list if present any.\\nImplement using user defined function in python.'"
      ]
     },
     "execution_count": 1,
     "metadata": {},
     "output_type": "execute_result"
    }
   ],
   "source": [
    "'''Make a list by taking n no.of inputs from user.Read the n value\n",
    "from user.Now remove all repeated elements of the list if present any.\n",
    "Implement using user defined function in python.'''\n",
    "def remove_duplicate():\n",
    "    n = int(input(\"Enter number of elements:\"))\n",
    "    lst = []\n",
    "    for i in range(0,n):\n",
    "        element = int(input())\n",
    "        lst.append(element)\n",
    "    new_set = set(lst)\n",
    "    new_list = list(new_set)\n",
    "    print(\"list with unique elements: \", new_list)\n",
    "    \n",
    "remove_duplicate()\n",
    "        \n",
    "    "
   ]
  },
  {
   "cell_type": "code",
   "execution_count": null,
   "id": "98f0582d",
   "metadata": {},
   "outputs": [],
   "source": [
    "'''Implement a python function to read a number from user\n",
    "and compute its square.'''\n",
    "\n",
    "def compute_square(num):\n",
    "    square = num**2\n",
    "    return square\n",
    "\n",
    "number = int(input(\"Enter your number: \"))\n",
    "print(\"Square of the given number is :\", compute_square(number))"
   ]
  }
 ],
 "metadata": {
  "kernelspec": {
   "display_name": "Python 3 (ipykernel)",
   "language": "python",
   "name": "python3"
  },
  "language_info": {
   "codemirror_mode": {
    "name": "ipython",
    "version": 3
   },
   "file_extension": ".py",
   "mimetype": "text/x-python",
   "name": "python",
   "nbconvert_exporter": "python",
   "pygments_lexer": "ipython3",
   "version": "3.9.7"
  }
 },
 "nbformat": 4,
 "nbformat_minor": 5
}
